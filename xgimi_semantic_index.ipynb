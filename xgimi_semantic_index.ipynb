{
 "cells": [
  {
   "cell_type": "markdown",
   "id": "673c399a",
   "metadata": {},
   "source": [
    "Import the required libraries"
   ]
  },
  {
   "cell_type": "code",
   "execution_count": 2,
   "id": "016d6249",
   "metadata": {},
   "outputs": [],
   "source": [
    "import nltk\n",
    "import os\n",
    "import sys\n",
    "import pickle\n",
    "from collections import namedtuple\n",
    "from datetime import datetime\n",
    "import numpy as np\n",
    "import apache_beam as beam\n",
    "from apache_beam.transforms import util\n",
    "import tensorflow as tf\n",
    "import tensorflow_hub as hub\n",
    "import annoy\n",
    "import pandas as pd\n",
    "from nltk.tokenize import sent_tokenize , word_tokenize\n",
    "import string\n",
    "# from sklearn.random_projection import gaussian_random_matrix"
   ]
  },
  {
   "cell_type": "code",
   "execution_count": 5,
   "id": "ed4eb0e6",
   "metadata": {},
   "outputs": [
    {
     "data": {
      "text/html": [
       "<div>\n",
       "<style scoped>\n",
       "    .dataframe tbody tr th:only-of-type {\n",
       "        vertical-align: middle;\n",
       "    }\n",
       "\n",
       "    .dataframe tbody tr th {\n",
       "        vertical-align: top;\n",
       "    }\n",
       "\n",
       "    .dataframe thead th {\n",
       "        text-align: right;\n",
       "    }\n",
       "</style>\n",
       "<table border=\"1\" class=\"dataframe\">\n",
       "  <thead>\n",
       "    <tr style=\"text-align: right;\">\n",
       "      <th></th>\n",
       "      <th>product</th>\n",
       "      <th>title</th>\n",
       "      <th>date</th>\n",
       "      <th>rating</th>\n",
       "      <th>body</th>\n",
       "    </tr>\n",
       "  </thead>\n",
       "  <tbody>\n",
       "    <tr>\n",
       "      <th>0</th>\n",
       "      <td>Xgimi Mogo Pro, Mini Portable Projector Smart,...</td>\n",
       "      <td>Best projector comparing to ViewSonic M1+ , Ne...</td>\n",
       "      <td>Reviewed in the United States on March 8, 2020</td>\n",
       "      <td>5.0</td>\n",
       "      <td>I tried ViewSonic M1+ , Nebula capsule max, ca...</td>\n",
       "    </tr>\n",
       "    <tr>\n",
       "      <th>1</th>\n",
       "      <td>Xgimi Mogo Pro, Mini Portable Projector Smart,...</td>\n",
       "      <td>Very nice Product</td>\n",
       "      <td>Reviewed in the United States on November 25, ...</td>\n",
       "      <td>5.0</td>\n",
       "      <td>Quick summary- this device provides high quali...</td>\n",
       "    </tr>\n",
       "    <tr>\n",
       "      <th>2</th>\n",
       "      <td>Xgimi Mogo Pro, Mini Portable Projector Smart,...</td>\n",
       "      <td>WOW... AMAZING projector for its size 🥰</td>\n",
       "      <td>Reviewed in the United States on January 6, 2021</td>\n",
       "      <td>5.0</td>\n",
       "      <td>I currently have Towond 6500LUX projector and ...</td>\n",
       "    </tr>\n",
       "    <tr>\n",
       "      <th>3</th>\n",
       "      <td>Xgimi Mogo Pro, Mini Portable Projector Smart,...</td>\n",
       "      <td>Not 1080p + Not bright enough + no Netflix</td>\n",
       "      <td>Reviewed in the United States on January 9, 2021</td>\n",
       "      <td>3.0</td>\n",
       "      <td>I agree with a lot of reviews, it’s very porta...</td>\n",
       "    </tr>\n",
       "    <tr>\n",
       "      <th>4</th>\n",
       "      <td>Xgimi Mogo Pro, Mini Portable Projector Smart,...</td>\n",
       "      <td>Good projector: Portable, good resolution, and...</td>\n",
       "      <td>Reviewed in the United States on May 11, 2020</td>\n",
       "      <td>5.0</td>\n",
       "      <td>XGIMI MoGo pro is a portable projector with a ...</td>\n",
       "    </tr>\n",
       "  </tbody>\n",
       "</table>\n",
       "</div>"
      ],
      "text/plain": [
       "                                             product  \\\n",
       "0  Xgimi Mogo Pro, Mini Portable Projector Smart,...   \n",
       "1  Xgimi Mogo Pro, Mini Portable Projector Smart,...   \n",
       "2  Xgimi Mogo Pro, Mini Portable Projector Smart,...   \n",
       "3  Xgimi Mogo Pro, Mini Portable Projector Smart,...   \n",
       "4  Xgimi Mogo Pro, Mini Portable Projector Smart,...   \n",
       "\n",
       "                                               title  \\\n",
       "0  Best projector comparing to ViewSonic M1+ , Ne...   \n",
       "1                                  Very nice Product   \n",
       "2            WOW... AMAZING projector for its size 🥰   \n",
       "3         Not 1080p + Not bright enough + no Netflix   \n",
       "4  Good projector: Portable, good resolution, and...   \n",
       "\n",
       "                                                date  rating  \\\n",
       "0     Reviewed in the United States on March 8, 2020     5.0   \n",
       "1  Reviewed in the United States on November 25, ...     5.0   \n",
       "2   Reviewed in the United States on January 6, 2021     5.0   \n",
       "3   Reviewed in the United States on January 9, 2021     3.0   \n",
       "4      Reviewed in the United States on May 11, 2020     5.0   \n",
       "\n",
       "                                                body  \n",
       "0  I tried ViewSonic M1+ , Nebula capsule max, ca...  \n",
       "1  Quick summary- this device provides high quali...  \n",
       "2  I currently have Towond 6500LUX projector and ...  \n",
       "3  I agree with a lot of reviews, it’s very porta...  \n",
       "4  XGIMI MoGo pro is a portable projector with a ...  "
      ]
     },
     "execution_count": 5,
     "metadata": {},
     "output_type": "execute_result"
    }
   ],
   "source": [
    "file = pd.read_csv(\"xgimiMoGoPro_with_dates_allv02.csv\")\n",
    "file.head()"
   ]
  },
  {
   "cell_type": "code",
   "execution_count": 6,
   "id": "868d9b07",
   "metadata": {},
   "outputs": [
    {
     "data": {
      "text/plain": [
       "pandas.core.series.Series"
      ]
     },
     "execution_count": 6,
     "metadata": {},
     "output_type": "execute_result"
    }
   ],
   "source": [
    "reviews=file[\"body\"]\n",
    "type(reviews)"
   ]
  },
  {
   "cell_type": "code",
   "execution_count": 7,
   "id": "82ae50f2",
   "metadata": {},
   "outputs": [],
   "source": [
    "import re\n",
    "def de_emojify(data):\n",
    "    emoj = re.compile(\"[\"\n",
    "        u\"\\U0001F600-\\U0001F64F\"  # emoticons\n",
    "        u\"\\U0001F300-\\U0001F5FF\"  # symbols & pictographs\n",
    "        u\"\\U0001F680-\\U0001F6FF\"  # transport & map symbols\n",
    "        u\"\\U0001F1E0-\\U0001F1FF\"  # flags (iOS)\n",
    "        u\"\\U00002500-\\U00002BEF\"  # chinese char\n",
    "        u\"\\U00002702-\\U000027B0\"\n",
    "        u\"\\U00002702-\\U000027B0\"\n",
    "        u\"\\U000024C2-\\U0001F251\"\n",
    "        u\"\\U0001f926-\\U0001f937\"\n",
    "        u\"\\U00010000-\\U0010ffff\"\n",
    "        u\"\\u2640-\\u2642\" \n",
    "        u\"\\u2600-\\u2B55\"\n",
    "        u\"\\u200d\"\n",
    "        u\"\\u23cf\"\n",
    "        u\"\\u23e9\"\n",
    "        u\"\\u231a\"\n",
    "        u\"\\ufe0f\"  # dingbats\n",
    "        u\"\\u3030\"\n",
    "                      \"]+\", re.UNICODE)\n",
    "    return re.sub(emoj, '', data)"
   ]
  },
  {
   "cell_type": "code",
   "execution_count": 50,
   "id": "e24fbbce",
   "metadata": {},
   "outputs": [],
   "source": [
    "file = []\n",
    "\n",
    "for rev in reviews:\n",
    "    text = rev.replace(\"”\",'” ')\n",
    "    text = text.replace('''[+]''',\"\")\n",
    "    text = text.replace('''[-]''',\"\")\n",
    "    text = de_emojify(text)\n",
    "#     print(text)\n",
    "    sents = sent_tokenize(text)\n",
    "    for line in sents:\n",
    "        file.append(line)"
   ]
  },
  {
   "cell_type": "code",
   "execution_count": 9,
   "id": "29bb4355",
   "metadata": {},
   "outputs": [
    {
     "data": {
      "text/plain": [
       "list"
      ]
     },
     "execution_count": 9,
     "metadata": {},
     "output_type": "execute_result"
    }
   ],
   "source": [
    "type(file)"
   ]
  },
  {
   "cell_type": "code",
   "execution_count": 10,
   "id": "f0130be9",
   "metadata": {},
   "outputs": [
    {
     "name": "stdout",
     "output_type": "stream",
     "text": [
      "Number of reviews:  170\n",
      "Number of sentences:  1087\n"
     ]
    }
   ],
   "source": [
    "print(\"Number of reviews: \",len(reviews))\n",
    "print(\"Number of sentences: \",len(file))"
   ]
  },
  {
   "cell_type": "code",
   "execution_count": 12,
   "id": "a53c265c",
   "metadata": {},
   "outputs": [],
   "source": [
    "pd.DataFrame(file).to_csv(\"XGlilnes.csv\", header=None)"
   ]
  },
  {
   "cell_type": "code",
   "execution_count": 13,
   "id": "a7a45d85",
   "metadata": {},
   "outputs": [
    {
     "data": {
      "text/html": [
       "<div>\n",
       "<style scoped>\n",
       "    .dataframe tbody tr th:only-of-type {\n",
       "        vertical-align: middle;\n",
       "    }\n",
       "\n",
       "    .dataframe tbody tr th {\n",
       "        vertical-align: top;\n",
       "    }\n",
       "\n",
       "    .dataframe thead th {\n",
       "        text-align: right;\n",
       "    }\n",
       "</style>\n",
       "<table border=\"1\" class=\"dataframe\">\n",
       "  <thead>\n",
       "    <tr style=\"text-align: right;\">\n",
       "      <th></th>\n",
       "      <th>0</th>\n",
       "      <th>1</th>\n",
       "    </tr>\n",
       "  </thead>\n",
       "  <tbody>\n",
       "    <tr>\n",
       "      <th>0</th>\n",
       "      <td>0</td>\n",
       "      <td>I tried ViewSonic M1+ , Nebula capsule max, ca...</td>\n",
       "    </tr>\n",
       "    <tr>\n",
       "      <th>1</th>\n",
       "      <td>1</td>\n",
       "      <td>Below are the pros and consPros:1) Full HD2) D...</td>\n",
       "    </tr>\n",
       "    <tr>\n",
       "      <th>2</th>\n",
       "      <td>2</td>\n",
       "      <td>But you can watch using XTV manager.2) No offi...</td>\n",
       "    </tr>\n",
       "    <tr>\n",
       "      <th>3</th>\n",
       "      <td>3</td>\n",
       "      <td>But you can cast using Chromecast.I hope they ...</td>\n",
       "    </tr>\n",
       "    <tr>\n",
       "      <th>4</th>\n",
       "      <td>4</td>\n",
       "      <td>Quick summary- this device provides high quali...</td>\n",
       "    </tr>\n",
       "  </tbody>\n",
       "</table>\n",
       "</div>"
      ],
      "text/plain": [
       "   0                                                  1\n",
       "0  0  I tried ViewSonic M1+ , Nebula capsule max, ca...\n",
       "1  1  Below are the pros and consPros:1) Full HD2) D...\n",
       "2  2  But you can watch using XTV manager.2) No offi...\n",
       "3  3  But you can cast using Chromecast.I hope they ...\n",
       "4  4  Quick summary- this device provides high quali..."
      ]
     },
     "execution_count": 13,
     "metadata": {},
     "output_type": "execute_result"
    }
   ],
   "source": [
    "file = pd.read_csv(\"XGlilnes.csv\", header=None)\n",
    "file.head()"
   ]
  },
  {
   "cell_type": "code",
   "execution_count": 14,
   "id": "a1da8475",
   "metadata": {},
   "outputs": [
    {
     "data": {
      "text/plain": [
       "pandas.core.series.Series"
      ]
     },
     "execution_count": 14,
     "metadata": {},
     "output_type": "execute_result"
    }
   ],
   "source": [
    "file = file[1]\n",
    "type(file)"
   ]
  },
  {
   "cell_type": "code",
   "execution_count": 15,
   "id": "ba13464c",
   "metadata": {},
   "outputs": [
    {
     "data": {
      "text/plain": [
       "0       I tried ViewSonic M1+ , Nebula capsule max, ca...\n",
       "1       Below are the pros and consPros:1) Full HD2) D...\n",
       "2       But you can watch using XTV manager.2) No offi...\n",
       "3       But you can cast using Chromecast.I hope they ...\n",
       "4       Quick summary- this device provides high quali...\n",
       "                              ...                        \n",
       "1082    This projector comes with a very intuitive set...\n",
       "1083    Works well with external HDMI connections like...\n",
       "1084    The volume setting interface can be made bette...\n",
       "1085    But over all my roommates and I really enjoy t...\n",
       "1086    The high definition movie feels really good ma...\n",
       "Name: 1, Length: 1087, dtype: object"
      ]
     },
     "execution_count": 15,
     "metadata": {},
     "output_type": "execute_result"
    }
   ],
   "source": [
    "file"
   ]
  },
  {
   "cell_type": "code",
   "execution_count": 61,
   "id": "bb176ae7",
   "metadata": {},
   "outputs": [],
   "source": [
    "       \n",
    "with open('xgimitext.txt', 'w', encoding=\"utf-8\") as out_file:\n",
    "\n",
    "    for line in file:\n",
    "#         print(line)\n",
    "\n",
    "        out_file.write(line+\"\\n\")"
   ]
  },
  {
   "cell_type": "code",
   "execution_count": 17,
   "id": "cf5ffaeb",
   "metadata": {},
   "outputs": [],
   "source": [
    "with open('xgimitext.txt', 'r', encoding=\"utf-8\") as f:\n",
    "    file = f.readlines()"
   ]
  },
  {
   "cell_type": "markdown",
   "id": "1e74dd4b",
   "metadata": {},
   "source": [
    "Generate Embeddings for the Data"
   ]
  },
  {
   "cell_type": "code",
   "execution_count": 24,
   "id": "7a5b5a92",
   "metadata": {},
   "outputs": [],
   "source": [
    "# Embedding extraction method\n",
    "\n",
    "embed_fn = None\n",
    "\n",
    "def generate_embeddings(text, module_url, random_projection_matrix=None):\n",
    "  # Beam will run this function in different processes that need to\n",
    "  # import hub and load embed_fn (if not previously loaded)\n",
    "  global embed_fn\n",
    "  if embed_fn is None:\n",
    "    embed_fn = hub.load(module_url)\n",
    "  embedding = embed_fn(text).numpy()\n",
    "  if random_projection_matrix is not None:\n",
    "    embedding = embedding.dot(random_projection_matrix)\n",
    "  return text, embedding"
   ]
  },
  {
   "cell_type": "code",
   "execution_count": 25,
   "id": "ebce3f44",
   "metadata": {},
   "outputs": [],
   "source": [
    "# Convert to tf.Example method\n",
    "\n",
    "def to_tf_example(entries):\n",
    "  examples = []\n",
    "\n",
    "  text_list, embedding_list = entries\n",
    "  for i in range(len(text_list)):\n",
    "    text = text_list[i]\n",
    "    embedding = embedding_list[i]\n",
    "\n",
    "    features = {\n",
    "        'text': tf.train.Feature(\n",
    "            bytes_list=tf.train.BytesList(value=[text.encode('utf-8')])),\n",
    "        'embedding': tf.train.Feature(\n",
    "            float_list=tf.train.FloatList(value=embedding.tolist()))\n",
    "    }\n",
    "\n",
    "    example = tf.train.Example(\n",
    "        features=tf.train.Features(\n",
    "            feature=features)).SerializeToString(deterministic=True)\n",
    "\n",
    "    examples.append(example)\n",
    "\n",
    "  return examples"
   ]
  },
  {
   "cell_type": "code",
   "execution_count": 26,
   "id": "3f16190f",
   "metadata": {},
   "outputs": [],
   "source": [
    "# Beam pipeline\n",
    "\n",
    "\n",
    "def run_hub2emb(args):\n",
    "  '''Runs the embedding generation pipeline'''\n",
    "\n",
    "  options = beam.options.pipeline_options.PipelineOptions(**args)\n",
    "  args = namedtuple(\"options\", args.keys())(*args.values())\n",
    "\n",
    "  with beam.Pipeline(args.runner, options=options) as pipeline:\n",
    "    (\n",
    "        pipeline\n",
    "        | 'Read sentences from files' >> beam.io.ReadFromText(\n",
    "            file_pattern=args.data_dir)\n",
    "        | 'Batch elements' >> util.BatchElements(\n",
    "            min_batch_size=args.batch_size, max_batch_size=args.batch_size)\n",
    "        | 'Generate embeddings' >> beam.Map(\n",
    "            generate_embeddings, args.module_url, args.random_projection_matrix)\n",
    "        | 'Encode to tf example' >> beam.FlatMap(to_tf_example)\n",
    "        | 'Write to TFRecords files' >> beam.io.WriteToTFRecord(\n",
    "            file_path_prefix='{}/emb'.format(args.output_dir),\n",
    "            file_name_suffix='.tfrecords')\n",
    "    )"
   ]
  },
  {
   "cell_type": "markdown",
   "id": "c717051e",
   "metadata": {},
   "source": [
    "Generating Random Projection Weight Matrix"
   ]
  },
  {
   "cell_type": "code",
   "execution_count": 27,
   "id": "31a06015",
   "metadata": {},
   "outputs": [],
   "source": [
    "from sklearn import random_projection\n",
    "\n",
    "def generate_random_projection_weights(original_dim, projected_dim):\n",
    "  random_projection_matrix = None\n",
    "#   X = np.random.rand( original_dim, projected_dim)\n",
    "  X = np.random.normal( size= (original_dim, projected_dim))\n",
    "  transformer = random_projection.GaussianRandomProjection(n_components=projected_dim)\n",
    "  random_projection_matrix = transformer.fit_transform(X) #.T\n",
    "#   random_projection_matrix = gaussian_random_matrix(\n",
    "#       n_components=projected_dim, n_features=original_dim).T\n",
    "  print(\"A Gaussian random weight matrix was creates with shape of {}\".format(random_projection_matrix.shape))\n",
    "  print('Storing random projection matrix to disk...')\n",
    "  with open('random_projection_matrix', 'wb') as handle:\n",
    "    pickle.dump(random_projection_matrix, \n",
    "                handle, protocol=pickle.HIGHEST_PROTOCOL)\n",
    "\n",
    "  return random_projection_matrix"
   ]
  },
  {
   "cell_type": "markdown",
   "id": "9d62bc76",
   "metadata": {},
   "source": [
    "Set parameters"
   ]
  },
  {
   "cell_type": "code",
   "execution_count": 48,
   "id": "498cf5b6",
   "metadata": {},
   "outputs": [],
   "source": [
    "# module_url = 'https://tfhub.dev/google/nnlm-en-dim128/2'\n",
    "#---download and unzip model in to load manually.\n",
    "#---this was done to prevent connnectivity time out issues.\n",
    "\n",
    "\n",
    "module_url = 'nnlm-en-dim128_2'\n",
    "projected_dim = 64"
   ]
  },
  {
   "cell_type": "markdown",
   "id": "ec93914c",
   "metadata": {},
   "source": [
    "Run pipeline"
   ]
  },
  {
   "cell_type": "code",
   "execution_count": 29,
   "id": "c57ebde1",
   "metadata": {},
   "outputs": [
    {
     "data": {
      "text/plain": [
       "1"
      ]
     },
     "execution_count": 29,
     "metadata": {},
     "output_type": "execute_result"
    }
   ],
   "source": [
    "hub.load(module_url)(['']).shape[0]"
   ]
  },
  {
   "cell_type": "code",
   "execution_count": 30,
   "id": "9a175243",
   "metadata": {},
   "outputs": [
    {
     "data": {
      "text/plain": [
       "128"
      ]
     },
     "execution_count": 30,
     "metadata": {},
     "output_type": "execute_result"
    }
   ],
   "source": [
    "hub.load(module_url)(['']).shape[1]"
   ]
  },
  {
   "cell_type": "code",
   "execution_count": 31,
   "id": "5134ca17",
   "metadata": {},
   "outputs": [
    {
     "name": "stdout",
     "output_type": "stream",
     "text": [
      "A Gaussian random weight matrix was creates with shape of (128, 64)\n",
      "Storing random projection matrix to disk...\n",
      "Pipeline args are set.\n"
     ]
    },
    {
     "data": {
      "text/plain": [
       "{'job_name': 'hub2emb-210714-125346',\n",
       " 'runner': 'DirectRunner',\n",
       " 'batch_size': 1024,\n",
       " 'data_dir': 'xgimitext.txt',\n",
       " 'output_dir': 'C:\\\\Users\\\\MYKie\\\\AppData\\\\Local\\\\Temp\\\\tmpkg7v4q2u',\n",
       " 'module_url': 'nnlm-en-dim128_2',\n",
       " 'random_projection_matrix': array([[ 3.01817674,  1.20722013, -0.13466821, ...,  0.62348606,\n",
       "          0.27182485,  1.59763779],\n",
       "        [-0.59482516,  0.9008925 ,  1.26315861, ..., -0.17842746,\n",
       "          0.44461179,  0.25853739],\n",
       "        [ 0.55093765,  0.93692367,  0.08765043, ..., -1.48875097,\n",
       "         -1.6852731 ,  0.15129098],\n",
       "        ...,\n",
       "        [-0.15799701,  1.88902363, -0.18252194, ...,  0.79365805,\n",
       "          0.2255481 , -0.46034259],\n",
       "        [-1.41377211, -0.88582841,  1.14891645, ..., -0.47096394,\n",
       "          0.56808247, -0.27023318],\n",
       "        [ 0.49123434,  0.33759877,  0.94678226, ..., -1.65712772,\n",
       "         -0.1407319 , -0.40070328]])}"
      ]
     },
     "execution_count": 31,
     "metadata": {},
     "output_type": "execute_result"
    }
   ],
   "source": [
    "\n",
    "\n",
    "import tempfile\n",
    "\n",
    "output_dir = tempfile.mkdtemp()\n",
    "original_dim = hub.load(module_url)(['']).shape[1]\n",
    "random_projection_matrix = None\n",
    "\n",
    "if projected_dim:\n",
    "  random_projection_matrix = generate_random_projection_weights(\n",
    "      original_dim, projected_dim)\n",
    "\n",
    "args = {\n",
    "    'job_name': 'hub2emb-{}'.format(datetime.utcnow().strftime('%y%m%d-%H%M%S')),\n",
    "    'runner': 'DirectRunner',\n",
    "    'batch_size': 1024,\n",
    "#     'data_dir': 'text.txt',\n",
    "    'data_dir':'xgimitext.txt',\n",
    "    'output_dir': output_dir,\n",
    "    'module_url': module_url,\n",
    "    'random_projection_matrix': random_projection_matrix,\n",
    "}\n",
    "\n",
    "print(\"Pipeline args are set.\")\n",
    "args"
   ]
  },
  {
   "cell_type": "code",
   "execution_count": 32,
   "id": "901dd7ea",
   "metadata": {},
   "outputs": [
    {
     "name": "stdout",
     "output_type": "stream",
     "text": [
      "Running pipeline...\n"
     ]
    },
    {
     "data": {
      "application/javascript": [
       "\n",
       "        if (typeof window.interactive_beam_jquery == 'undefined') {\n",
       "          var jqueryScript = document.createElement('script');\n",
       "          jqueryScript.src = 'https://code.jquery.com/jquery-3.4.1.slim.min.js';\n",
       "          jqueryScript.type = 'text/javascript';\n",
       "          jqueryScript.onload = function() {\n",
       "            var datatableScript = document.createElement('script');\n",
       "            datatableScript.src = 'https://cdn.datatables.net/1.10.20/js/jquery.dataTables.min.js';\n",
       "            datatableScript.type = 'text/javascript';\n",
       "            datatableScript.onload = function() {\n",
       "              window.interactive_beam_jquery = jQuery.noConflict(true);\n",
       "              window.interactive_beam_jquery(document).ready(function($){\n",
       "                \n",
       "              });\n",
       "            }\n",
       "            document.head.appendChild(datatableScript);\n",
       "          };\n",
       "          document.head.appendChild(jqueryScript);\n",
       "        } else {\n",
       "          window.interactive_beam_jquery(document).ready(function($){\n",
       "            \n",
       "          });\n",
       "        }"
      ]
     },
     "metadata": {},
     "output_type": "display_data"
    },
    {
     "name": "stderr",
     "output_type": "stream",
     "text": [
      "WARNING:apache_beam.options.pipeline_options:Discarding unparseable args: ['-f', 'C:\\\\Users\\\\MYKie\\\\AppData\\\\Roaming\\\\jupyter\\\\runtime\\\\kernel-62e91e36-174c-45b0-b9c6-8d9acbbd126e.json']\n",
      "WARNING:apache_beam.options.pipeline_options:Discarding invalid overrides: {'batch_size': 1024, 'data_dir': 'xgimitext.txt', 'output_dir': 'C:\\\\Users\\\\MYKie\\\\AppData\\\\Local\\\\Temp\\\\tmpkg7v4q2u', 'module_url': 'nnlm-en-dim128_2', 'random_projection_matrix': array([[ 3.01817674,  1.20722013, -0.13466821, ...,  0.62348606,\n",
      "         0.27182485,  1.59763779],\n",
      "       [-0.59482516,  0.9008925 ,  1.26315861, ..., -0.17842746,\n",
      "         0.44461179,  0.25853739],\n",
      "       [ 0.55093765,  0.93692367,  0.08765043, ..., -1.48875097,\n",
      "        -1.6852731 ,  0.15129098],\n",
      "       ...,\n",
      "       [-0.15799701,  1.88902363, -0.18252194, ...,  0.79365805,\n",
      "         0.2255481 , -0.46034259],\n",
      "       [-1.41377211, -0.88582841,  1.14891645, ..., -0.47096394,\n",
      "         0.56808247, -0.27023318],\n",
      "       [ 0.49123434,  0.33759877,  0.94678226, ..., -1.65712772,\n",
      "        -0.1407319 , -0.40070328]])}\n",
      "WARNING:root:Make sure that locally built Python SDK docker image has Python 3.7 interpreter.\n",
      "WARNING:apache_beam.io.tfrecordio:Couldn't find python-snappy so the implementation of _TFRecordUtil._masked_crc32c is not as fast as it could be.\n"
     ]
    },
    {
     "name": "stdout",
     "output_type": "stream",
     "text": [
      "Wall time: 2.04 s\n",
      "Pipeline is done.\n"
     ]
    }
   ],
   "source": [
    "print(\"Running pipeline...\")\n",
    "%time run_hub2emb(args)\n",
    "print(\"Pipeline is done.\")"
   ]
  },
  {
   "cell_type": "code",
   "execution_count": 33,
   "id": "cdc42081",
   "metadata": {},
   "outputs": [
    {
     "name": "stdout",
     "output_type": "stream",
     "text": [
      " Volume in drive C has no label.\n",
      " Volume Serial Number is 063B-D951\n",
      "\n",
      " Directory of C:\\Users\\MYKie\\AppData\\Local\\Temp\\tmpkg7v4q2u\n",
      "\n",
      "07/14/2021  08:53 PM    <DIR>          .\n",
      "07/14/2021  08:53 PM    <DIR>          ..\n",
      "07/14/2021  08:53 PM           438,071 emb-00000-of-00001.tfrecords\n",
      "               1 File(s)        438,071 bytes\n",
      "               2 Dir(s)  57,575,550,976 bytes free\n"
     ]
    }
   ],
   "source": [
    "ls {output_dir}"
   ]
  },
  {
   "cell_type": "markdown",
   "id": "81acdd42",
   "metadata": {},
   "source": [
    "Read some of the generated embeddings..."
   ]
  },
  {
   "cell_type": "code",
   "execution_count": 34,
   "id": "c5e5225c",
   "metadata": {},
   "outputs": [
    {
     "name": "stdout",
     "output_type": "stream",
     "text": [
      "I tried ViewSonic M1+ , Nebula capsule max, capsule 2 projectors and finally I ended up with XGIMI Mogo pro.After I tried all these projectors, I feel XGIMI Mogo pro is best.: [-1.3094931   0.5831628  -0.3201584   1.27804    -1.4095589  -0.4089551\n",
      " -0.5168101   1.590789   -0.56005496 -0.44856957]\n",
      "Below are the pros and consPros:1) Full HD2) Dual Wifi band support3) Good sound4) Quick auto focus5) Portable6) Build in Chromecast7) Less noise8) Android TV 9.0Cons:1) No official Netflix app.: [-1.7083434   1.4371746   2.1689744  -0.26700366 -2.8384833  -1.894894\n",
      "  1.0511308  -1.4468449  -1.1725187  -0.16940773]\n",
      "But you can watch using XTV manager.2) No official Amazon prime app.: [ 2.0853274   1.111599    0.7450435  -0.3068385  -0.39272606 -1.3579074\n",
      "  1.2916408  -1.3246647  -1.7642888   2.0982857 ]\n",
      "But you can cast using Chromecast.I hope they will add these primary apps soon.: [ 1.8574227   0.8295457  -0.5771785   0.6033614  -0.80412626 -0.19141379\n",
      "  0.0917436   0.01092126  0.09315198  1.4034674 ]\n",
      "Quick summary- this device provides high quality image in 1080p resolution with decent speakers and really works quite well.: [ 1.4405366   0.13904841  2.1301148   0.09287343 -0.16168351 -1.0806868\n",
      " -0.15446909 -0.7418272  -0.6397747   1.3678178 ]\n"
     ]
    }
   ],
   "source": [
    "embed_file = os.path.join(output_dir, 'emb-00000-of-00001.tfrecords')\n",
    "sample = 5\n",
    "\n",
    "# Create a description of the features.\n",
    "feature_description = {\n",
    "    'text': tf.io.FixedLenFeature([], tf.string),\n",
    "    'embedding': tf.io.FixedLenFeature([projected_dim], tf.float32)\n",
    "}\n",
    "\n",
    "def _parse_example(example):\n",
    "  # Parse the input `tf.Example` proto using the dictionary above.\n",
    "  return tf.io.parse_single_example(example, feature_description)\n",
    "\n",
    "dataset = tf.data.TFRecordDataset(embed_file)\n",
    "for record in dataset.take(sample).map(_parse_example):\n",
    "  print(\"{}: {}\".format(record['text'].numpy().decode('utf-8'), record['embedding'].numpy()[:10]))"
   ]
  },
  {
   "cell_type": "markdown",
   "id": "8903ad97",
   "metadata": {},
   "source": [
    "Build the ANN Index for the Embeddings\n",
    "\n",
    "ANNOY is similar to facebooks FAISS-- https://github.com/facebookresearch/faiss"
   ]
  },
  {
   "cell_type": "code",
   "execution_count": 35,
   "id": "7bdeb3a5",
   "metadata": {},
   "outputs": [],
   "source": [
    "def build_index(embedding_files_pattern, index_filename, vector_length, \n",
    "    metric='angular', num_trees=100):\n",
    "  '''Builds an ANNOY index'''\n",
    "\n",
    "  annoy_index = annoy.AnnoyIndex(vector_length, metric=metric)\n",
    "  # Mapping between the item and its identifier in the index\n",
    "  mapping = {}\n",
    "\n",
    "  embed_files = tf.io.gfile.glob(embedding_files_pattern)\n",
    "  num_files = len(embed_files)\n",
    "  print('Found {} embedding file(s).'.format(num_files))\n",
    "\n",
    "  item_counter = 0\n",
    "  for i, embed_file in enumerate(embed_files):\n",
    "    print('Loading embeddings in file {} of {}...'.format(i+1, num_files))\n",
    "    dataset = tf.data.TFRecordDataset(embed_file)\n",
    "    for record in dataset.map(_parse_example):\n",
    "      text = record['text'].numpy().decode(\"utf-8\")\n",
    "      embedding = record['embedding'].numpy()\n",
    "      mapping[item_counter] = text\n",
    "      annoy_index.add_item(item_counter, embedding)\n",
    "      item_counter += 1\n",
    "      if item_counter % 100000 == 0:\n",
    "        print('{} items loaded to the index'.format(item_counter))\n",
    "\n",
    "  print('A total of {} items added to the index'.format(item_counter))\n",
    "\n",
    "  print('Building the index with {} trees...'.format(num_trees))\n",
    "  annoy_index.build(n_trees=num_trees)\n",
    "  print('Index is successfully built.')\n",
    "\n",
    "  print('Saving index to disk...')\n",
    "  annoy_index.save(index_filename)\n",
    "  print('Index is saved to disk.')\n",
    "  print(\"Index file size: {} GB\".format(\n",
    "    round(os.path.getsize(index_filename) / float(1024 ** 3), 2)))\n",
    "  annoy_index.unload()\n",
    "\n",
    "  print('Saving mapping to disk...')\n",
    "  with open(index_filename + '.mapping', 'wb') as handle:\n",
    "    pickle.dump(mapping, handle, protocol=pickle.HIGHEST_PROTOCOL)\n",
    "  print('Mapping is saved to disk.')\n",
    "  print(\"Mapping file size: {} MB\".format(\n",
    "    round(os.path.getsize(index_filename + '.mapping') / float(1024 ** 2), 2)))"
   ]
  },
  {
   "cell_type": "code",
   "execution_count": 36,
   "id": "5ed4fba2",
   "metadata": {},
   "outputs": [
    {
     "name": "stderr",
     "output_type": "stream",
     "text": [
      "'rm' is not recognized as an internal or external command,\n",
      "operable program or batch file.\n"
     ]
    },
    {
     "name": "stdout",
     "output_type": "stream",
     "text": [
      "Found 1 embedding file(s).\n",
      "Loading embeddings in file 1 of 1...\n"
     ]
    },
    {
     "name": "stderr",
     "output_type": "stream",
     "text": [
      "'rm' is not recognized as an internal or external command,\n",
      "operable program or batch file.\n"
     ]
    },
    {
     "name": "stdout",
     "output_type": "stream",
     "text": [
      "A total of 1087 items added to the index\n",
      "Building the index with 100 trees...\n",
      "Index is successfully built.\n",
      "Saving index to disk...\n",
      "Index is saved to disk.\n",
      "Index file size: 0.0 GB\n",
      "Saving mapping to disk...\n",
      "Mapping is saved to disk.\n",
      "Mapping file size: 0.1 MB\n",
      "Wall time: 166 ms\n"
     ]
    }
   ],
   "source": [
    "embedding_files = \"{}/emb-*.tfrecords\".format(output_dir)\n",
    "embedding_dimension = projected_dim\n",
    "index_filename = \"index\"\n",
    "\n",
    "!rm {index_filename}\n",
    "!rm {index_filename}.mapping\n",
    "\n",
    "%time build_index(embedding_files, index_filename, embedding_dimension)"
   ]
  },
  {
   "cell_type": "markdown",
   "id": "6f18a2c1",
   "metadata": {},
   "source": [
    "Use the Index for Similarity Matching"
   ]
  },
  {
   "cell_type": "markdown",
   "id": "76d7cfde",
   "metadata": {},
   "source": [
    "Now we can use the ANN index to find news headlines that are semantically close to an input query.\n",
    "\n",
    "Load the index and the mapping files"
   ]
  },
  {
   "cell_type": "code",
   "execution_count": 37,
   "id": "85487a3d",
   "metadata": {},
   "outputs": [
    {
     "name": "stdout",
     "output_type": "stream",
     "text": [
      "Annoy index is loaded.\n",
      "Mapping file is loaded.\n"
     ]
    },
    {
     "name": "stderr",
     "output_type": "stream",
     "text": [
      "C:\\Users\\MYKie\\anaconda3\\envs\\tensorflow\\lib\\site-packages\\ipykernel_launcher.py:1: FutureWarning: The default argument for metric will be removed in future version of Annoy. Please pass metric='angular' explicitly.\n",
      "  \"\"\"Entry point for launching an IPython kernel.\n"
     ]
    }
   ],
   "source": [
    "index = annoy.AnnoyIndex(embedding_dimension)\n",
    "index.load(index_filename, prefault=True)\n",
    "print('Annoy index is loaded.')\n",
    "with open(index_filename + '.mapping', 'rb') as handle:\n",
    "  mapping = pickle.load(handle)\n",
    "print('Mapping file is loaded.')"
   ]
  },
  {
   "cell_type": "markdown",
   "id": "0c085984",
   "metadata": {},
   "source": [
    "Similarity matching method"
   ]
  },
  {
   "cell_type": "code",
   "execution_count": 38,
   "id": "a9d45748",
   "metadata": {},
   "outputs": [],
   "source": [
    "def find_similar_items(embedding, num_matches=5):\n",
    "  '''Finds similar items to a given embedding in the ANN index'''\n",
    "  ids = index.get_nns_by_vector(\n",
    "  embedding, num_matches, search_k=-1, include_distances=False)\n",
    "  items = [mapping[i] for i in ids]\n",
    "  return items"
   ]
  },
  {
   "cell_type": "markdown",
   "id": "b7bcc814",
   "metadata": {},
   "source": [
    "Extract embedding from a given query"
   ]
  },
  {
   "cell_type": "code",
   "execution_count": 39,
   "id": "4f374e27",
   "metadata": {},
   "outputs": [
    {
     "name": "stdout",
     "output_type": "stream",
     "text": [
      "Loading the TF-Hub module...\n",
      "Wall time: 910 ms\n",
      "TF-Hub module is loaded.\n",
      "Loading random projection matrix...\n",
      "random projection matrix is loaded.\n"
     ]
    }
   ],
   "source": [
    "# Load the TF-Hub module\n",
    "print(\"Loading locally stored the TF-Hub module...\")\n",
    "%time embed_fn = hub.load(module_url)\n",
    "print(\"TF-Hub module is loaded.\")\n",
    "\n",
    "random_projection_matrix = None\n",
    "if os.path.exists('random_projection_matrix'):\n",
    "  print(\"Loading random projection matrix...\")\n",
    "  with open('random_projection_matrix', 'rb') as handle:\n",
    "    random_projection_matrix = pickle.load(handle)\n",
    "  print('random projection matrix is loaded.')\n",
    "\n",
    "def extract_embeddings(query):\n",
    "  '''Generates the embedding for the query'''\n",
    "  query_embedding =  embed_fn([query])[0].numpy()\n",
    "  if random_projection_matrix is not None:\n",
    "    query_embedding = query_embedding.dot(random_projection_matrix)\n",
    "  return query_embedding"
   ]
  },
  {
   "cell_type": "code",
   "execution_count": 60,
   "id": "3b5e1ac6",
   "metadata": {},
   "outputs": [
    {
     "data": {
      "text/plain": [
       "array([-0.10911922, -0.85970379,  0.79144541,  0.39806317,  0.14884789,\n",
       "       -0.70904091,  0.01946911,  1.29163112, -0.35425398,  1.4121539 ])"
      ]
     },
     "execution_count": 60,
     "metadata": {},
     "output_type": "execute_result"
    }
   ],
   "source": [
    "extract_embeddings(\"Xgimi where are you?\")[:10]"
   ]
  },
  {
   "cell_type": "markdown",
   "id": "e710016f",
   "metadata": {},
   "source": [
    "Enter a query to find the most similar items"
   ]
  },
  {
   "cell_type": "code",
   "execution_count": 46,
   "id": "adf917a3",
   "metadata": {},
   "outputs": [
    {
     "name": "stdout",
     "output_type": "stream",
     "text": [
      "Generating embedding for the query...\n",
      "Wall time: 1 ms\n",
      "\n",
      "Finding relevant items in the index...\n",
      "Wall time: 0 ns\n",
      "\n",
      "Results:\n",
      "=========\n",
      "It's quiet, the brightness is adjustable by color, the remote is great.\n",
      "The picture quality is phenomenal and the sound from the built-in speaker is high-quality (for being built into the projector).\n",
      "The screen pixelation that occurs on YouTube, Xgimi acknowledged this was a problem and said it will be in a patch in the future.\n",
      "It comes extremely nicely packed and the quality of the product can be gauged at the first glance itself.\n",
      "(light is on top which is very close to the part of wall I projected) There is a small light in a far corner in both cases.\n",
      "The picture is best in a dark room, but even with a little light coming in the image is viewable.\n",
      "The luxury of having a big screen on the go is something to appreciate.\n",
      "The 300 ANSI lumens (how much light you are getting from a bulb/brightness) is surprisingly sufficient to enjoy a good movie.Its portability is definitely is one of its best features.\n"
     ]
    }
   ],
   "source": [
    "query = \"the screen is very clear\"\n",
    "\n",
    "\n",
    "print(\"Generating embedding for the query...\")\n",
    "%time query_embedding = extract_embeddings(query)\n",
    "\n",
    "print(\"\")\n",
    "print(\"Finding relevant items in the index...\")\n",
    "%time items = find_similar_items(query_embedding, 10)\n",
    "\n",
    "print(\"\")\n",
    "print(\"Results:\")\n",
    "print(\"=========\")\n",
    "items=set(items)\n",
    "for item in items:\n",
    "  print(item)"
   ]
  },
  {
   "cell_type": "code",
   "execution_count": 47,
   "id": "66e16ad6",
   "metadata": {},
   "outputs": [
    {
     "name": "stdout",
     "output_type": "stream",
     "text": [
      "Generating embedding for the query...\n",
      "Wall time: 2 ms\n",
      "\n",
      "Finding relevant items in the index...\n",
      "Wall time: 995 µs\n",
      "\n",
      "Results:\n",
      "=========\n",
      "Also it needs to build in smart TV futures to stay ahead of competition.\n",
      "It has auto focus.\n",
      "Very light weight with amazing picture quality and built in android tv to access great variety  of entertainment on your finger tips.\n",
      "We can stream content from any offer streaming platforms or devices connected via USB port or HDMI port.It is a simply amazing projector that I have ever seen which comes under well within the budget compared to any premium wired projectors.\n",
      "It also supports HDMI input to project from external source.\n",
      "I use it to connect computer for kids' screen time trying to reduce damage caused by regular monitor.I did not use projector screen and the definition is clear for kids to see.It is small I can move it to living room anytime to have a movie or game.It also support Android TV which is good to watch more programs.\n",
      "You can connect a sound bar via bluetooth or even connect your wireless headphones to experience a sound that will fulfill your needs.Like almost all technology on the market it has its cons.\n"
     ]
    }
   ],
   "source": [
    "query = \"connectivity\"\n",
    "\n",
    "# query = \"g7 warns of increasing global economic crisis\"\n",
    "\n",
    "# query = \"business opportunities\"\n",
    "\n",
    "print(\"Generating embedding for the query...\")\n",
    "%time query_embedding = extract_embeddings(query)\n",
    "\n",
    "print(\"\")\n",
    "print(\"Finding relevant items in the index...\")\n",
    "%time items = find_similar_items(query_embedding, 10)\n",
    "\n",
    "print(\"\")\n",
    "print(\"Results:\")\n",
    "print(\"=========\")\n",
    "# print(type(items))\n",
    "items=set(items)\n",
    "for item in items:\n",
    "  print(item)"
   ]
  },
  {
   "cell_type": "code",
   "execution_count": 59,
   "id": "329d8d35",
   "metadata": {},
   "outputs": [
    {
     "name": "stdout",
     "output_type": "stream",
     "text": [
      "Note: you may need to restart the kernel to use updated packages.\n"
     ]
    }
   ],
   "source": [
    "pip freeze > requirements.txt"
   ]
  },
  {
   "cell_type": "code",
   "execution_count": null,
   "id": "93a104de",
   "metadata": {},
   "outputs": [],
   "source": []
  }
 ],
 "metadata": {
  "kernelspec": {
   "display_name": "Python 3",
   "language": "python",
   "name": "python3"
  },
  "language_info": {
   "codemirror_mode": {
    "name": "ipython",
    "version": 3
   },
   "file_extension": ".py",
   "mimetype": "text/x-python",
   "name": "python",
   "nbconvert_exporter": "python",
   "pygments_lexer": "ipython3",
   "version": "3.7.10"
  }
 },
 "nbformat": 4,
 "nbformat_minor": 5
}
